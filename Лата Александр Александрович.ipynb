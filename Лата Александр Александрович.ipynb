{
 "cells": [
  {
   "cell_type": "markdown",
   "metadata": {},
   "source": [
    "<center style=\"font-size: 26px\"> <b>Проверка уровня знаний Python</b></center>"
   ]
  },
  {
   "cell_type": "code",
   "execution_count": 169,
   "metadata": {},
   "outputs": [],
   "source": [
    "# обеспечиваем совместимость с Python 2 и 3\n",
    "from __future__ import (absolute_import, division, print_function, unicode_literals)\n",
    "\n",
    "# отключаем предупреждения дистрибутива Anaconda\n",
    "import warnings\n",
    "warnings.simplefilter('ignore')"
   ]
  },
  {
   "cell_type": "markdown",
   "metadata": {},
   "source": [
    "### Практические задания:"
   ]
  },
  {
   "cell_type": "markdown",
   "metadata": {},
   "source": [
    "#### Загрузите датасет, который вы использовали в блоке задания Power BI как dataframe\n",
    "\n",
    "[Датасет с платформы ИНИД](https://www.data-in.ru/data-catalog/datasets/133/#dataset-overview)"
   ]
  },
  {
   "cell_type": "code",
   "execution_count": 170,
   "metadata": {},
   "outputs": [
    {
     "data": {
      "text/html": [
       "<div>\n",
       "<style scoped>\n",
       "    .dataframe tbody tr th:only-of-type {\n",
       "        vertical-align: middle;\n",
       "    }\n",
       "\n",
       "    .dataframe tbody tr th {\n",
       "        vertical-align: top;\n",
       "    }\n",
       "\n",
       "    .dataframe thead th {\n",
       "        text-align: right;\n",
       "    }\n",
       "</style>\n",
       "<table border=\"1\" class=\"dataframe\">\n",
       "  <thead>\n",
       "    <tr style=\"text-align: right;\">\n",
       "      <th></th>\n",
       "      <th>Страна</th>\n",
       "      <th>Краткие обозначения</th>\n",
       "      <th>Город</th>\n",
       "      <th>Дата \\nпоставки/\\nновости</th>\n",
       "      <th>Дата завершения (для случаев отправления персонала)</th>\n",
       "      <th>Природа помощи (правительственная/неправительственная)</th>\n",
       "      <th>Наборы тестов (кол-во)</th>\n",
       "      <th>Тест-системы/исследования (кол-во)</th>\n",
       "      <th>Тесты (факт)</th>\n",
       "      <th>СИЗ (факт)</th>\n",
       "      <th>...</th>\n",
       "      <th>Источник 1</th>\n",
       "      <th>Источник 2</th>\n",
       "      <th>Источник 3</th>\n",
       "      <th>Роспотребнадзор</th>\n",
       "      <th>МЧС</th>\n",
       "      <th>Минобороны</th>\n",
       "      <th>Минздрав</th>\n",
       "      <th>ФМБА</th>\n",
       "      <th>Другие организации</th>\n",
       "      <th>Международные \\nорганизации</th>\n",
       "    </tr>\n",
       "  </thead>\n",
       "  <tbody>\n",
       "    <tr>\n",
       "      <th>0</th>\n",
       "      <td>Абхазия</td>\n",
       "      <td>AB</td>\n",
       "      <td>NaN</td>\n",
       "      <td>2020-03-20</td>\n",
       "      <td>NaT</td>\n",
       "      <td>П</td>\n",
       "      <td>NaN</td>\n",
       "      <td>400.0</td>\n",
       "      <td>1.0</td>\n",
       "      <td>NaN</td>\n",
       "      <td>...</td>\n",
       "      <td>https://sputnik-abkhazia.ru/Abkhazia/20200320/...</td>\n",
       "      <td>https://sputnik-abkhazia.ru/Abkhazia/20200326/...</td>\n",
       "      <td>NaN</td>\n",
       "      <td>1.0</td>\n",
       "      <td>NaN</td>\n",
       "      <td>NaN</td>\n",
       "      <td>NaN</td>\n",
       "      <td>NaN</td>\n",
       "      <td>NaN</td>\n",
       "      <td>NaN</td>\n",
       "    </tr>\n",
       "    <tr>\n",
       "      <th>1</th>\n",
       "      <td>Абхазия</td>\n",
       "      <td>AB</td>\n",
       "      <td>NaN</td>\n",
       "      <td>2020-04-18</td>\n",
       "      <td>2020-05-18</td>\n",
       "      <td>П</td>\n",
       "      <td>NaN</td>\n",
       "      <td>NaN</td>\n",
       "      <td>NaN</td>\n",
       "      <td>NaN</td>\n",
       "      <td>...</td>\n",
       "      <td>https://www.mid.ru/ru/press_service/spokesman/...</td>\n",
       "      <td>https://abkhazia.mid.ru/ru/press-centre/news/o...</td>\n",
       "      <td>https://sputnik-abkhazia.ru/coronavirus/202004...</td>\n",
       "      <td>NaN</td>\n",
       "      <td>NaN</td>\n",
       "      <td>1.0</td>\n",
       "      <td>NaN</td>\n",
       "      <td>NaN</td>\n",
       "      <td>NaN</td>\n",
       "      <td>NaN</td>\n",
       "    </tr>\n",
       "  </tbody>\n",
       "</table>\n",
       "<p>2 rows × 30 columns</p>\n",
       "</div>"
      ],
      "text/plain": [
       "    Страна Краткие обозначения Город Дата \\nпоставки/\\nновости  \\\n",
       "0  Абхазия                  AB   NaN                2020-03-20   \n",
       "1  Абхазия                  AB   NaN                2020-04-18   \n",
       "\n",
       "  Дата завершения (для случаев отправления персонала)  \\\n",
       "0                                                NaT    \n",
       "1                                         2020-05-18    \n",
       "\n",
       "  Природа помощи (правительственная/неправительственная)  \\\n",
       "0                                                  П       \n",
       "1                                                  П       \n",
       "\n",
       "   Наборы тестов (кол-во)  Тест-системы/исследования (кол-во)  Тесты (факт)  \\\n",
       "0                     NaN                               400.0           1.0   \n",
       "1                     NaN                                 NaN           NaN   \n",
       "\n",
       "   СИЗ (факт)  ...                                         Источник 1  \\\n",
       "0         NaN  ...  https://sputnik-abkhazia.ru/Abkhazia/20200320/...   \n",
       "1         NaN  ...  https://www.mid.ru/ru/press_service/spokesman/...   \n",
       "\n",
       "                                          Источник 2  \\\n",
       "0  https://sputnik-abkhazia.ru/Abkhazia/20200326/...   \n",
       "1  https://abkhazia.mid.ru/ru/press-centre/news/o...   \n",
       "\n",
       "                                          Источник 3  Роспотребнадзор МЧС  \\\n",
       "0                                                NaN              1.0 NaN   \n",
       "1  https://sputnik-abkhazia.ru/coronavirus/202004...              NaN NaN   \n",
       "\n",
       "   Минобороны  Минздрав  ФМБА  Другие организации Международные \\nорганизации  \n",
       "0         NaN       NaN   NaN                 NaN                         NaN  \n",
       "1         1.0       NaN   NaN                 NaN                         NaN  \n",
       "\n",
       "[2 rows x 30 columns]"
      ]
     },
     "execution_count": 170,
     "metadata": {},
     "output_type": "execute_result"
    }
   ],
   "source": [
    "import pandas as pd\n",
    "\n",
    "df = pd.read_excel('data.xlsx')\n",
    "df.head(2)"
   ]
  },
  {
   "cell_type": "markdown",
   "metadata": {},
   "source": [
    "#### 1. Выведете типы данных столбцов"
   ]
  },
  {
   "cell_type": "code",
   "execution_count": 175,
   "metadata": {
    "scrolled": true
   },
   "outputs": [
    {
     "data": {
      "text/plain": [
       "Страна                 object\n",
       "Краткие обозначения    object\n",
       "dtype: object"
      ]
     },
     "execution_count": 175,
     "metadata": {},
     "output_type": "execute_result"
    }
   ],
   "source": [
    "# df.info()\n",
    "datatypes = df.dtypes\n",
    "datatypes.head(2)"
   ]
  },
  {
   "cell_type": "markdown",
   "metadata": {},
   "source": [
    "#### 3. Уберите из названий столбцов знаки переносов ('\\n')"
   ]
  },
  {
   "cell_type": "code",
   "execution_count": 171,
   "metadata": {},
   "outputs": [
    {
     "data": {
      "text/html": [
       "<div>\n",
       "<style scoped>\n",
       "    .dataframe tbody tr th:only-of-type {\n",
       "        vertical-align: middle;\n",
       "    }\n",
       "\n",
       "    .dataframe tbody tr th {\n",
       "        vertical-align: top;\n",
       "    }\n",
       "\n",
       "    .dataframe thead th {\n",
       "        text-align: right;\n",
       "    }\n",
       "</style>\n",
       "<table border=\"1\" class=\"dataframe\">\n",
       "  <thead>\n",
       "    <tr style=\"text-align: right;\">\n",
       "      <th></th>\n",
       "      <th>Страна</th>\n",
       "      <th>Краткие обозначения</th>\n",
       "      <th>Город</th>\n",
       "      <th>Дата  поставки/ новости</th>\n",
       "      <th>Дата завершения (для случаев отправления персонала)</th>\n",
       "      <th>Природа помощи (правительственная/неправительственная)</th>\n",
       "      <th>Наборы тестов (кол-во)</th>\n",
       "      <th>Тест-системы/исследования (кол-во)</th>\n",
       "      <th>Тесты (факт)</th>\n",
       "      <th>СИЗ (факт)</th>\n",
       "      <th>...</th>\n",
       "      <th>Источник 1</th>\n",
       "      <th>Источник 2</th>\n",
       "      <th>Источник 3</th>\n",
       "      <th>Роспотребнадзор</th>\n",
       "      <th>МЧС</th>\n",
       "      <th>Минобороны</th>\n",
       "      <th>Минздрав</th>\n",
       "      <th>ФМБА</th>\n",
       "      <th>Другие организации</th>\n",
       "      <th>Международные  организации</th>\n",
       "    </tr>\n",
       "  </thead>\n",
       "  <tbody>\n",
       "    <tr>\n",
       "      <th>0</th>\n",
       "      <td>Абхазия</td>\n",
       "      <td>AB</td>\n",
       "      <td>NaN</td>\n",
       "      <td>2020-03-20</td>\n",
       "      <td>NaT</td>\n",
       "      <td>П</td>\n",
       "      <td>NaN</td>\n",
       "      <td>400.0</td>\n",
       "      <td>1.0</td>\n",
       "      <td>NaN</td>\n",
       "      <td>...</td>\n",
       "      <td>https://sputnik-abkhazia.ru/Abkhazia/20200320/...</td>\n",
       "      <td>https://sputnik-abkhazia.ru/Abkhazia/20200326/...</td>\n",
       "      <td>NaN</td>\n",
       "      <td>1.0</td>\n",
       "      <td>NaN</td>\n",
       "      <td>NaN</td>\n",
       "      <td>NaN</td>\n",
       "      <td>NaN</td>\n",
       "      <td>NaN</td>\n",
       "      <td>NaN</td>\n",
       "    </tr>\n",
       "    <tr>\n",
       "      <th>1</th>\n",
       "      <td>Абхазия</td>\n",
       "      <td>AB</td>\n",
       "      <td>NaN</td>\n",
       "      <td>2020-04-18</td>\n",
       "      <td>2020-05-18</td>\n",
       "      <td>П</td>\n",
       "      <td>NaN</td>\n",
       "      <td>NaN</td>\n",
       "      <td>NaN</td>\n",
       "      <td>NaN</td>\n",
       "      <td>...</td>\n",
       "      <td>https://www.mid.ru/ru/press_service/spokesman/...</td>\n",
       "      <td>https://abkhazia.mid.ru/ru/press-centre/news/o...</td>\n",
       "      <td>https://sputnik-abkhazia.ru/coronavirus/202004...</td>\n",
       "      <td>NaN</td>\n",
       "      <td>NaN</td>\n",
       "      <td>1.0</td>\n",
       "      <td>NaN</td>\n",
       "      <td>NaN</td>\n",
       "      <td>NaN</td>\n",
       "      <td>NaN</td>\n",
       "    </tr>\n",
       "  </tbody>\n",
       "</table>\n",
       "<p>2 rows × 30 columns</p>\n",
       "</div>"
      ],
      "text/plain": [
       "    Страна Краткие обозначения Город Дата  поставки/ новости  \\\n",
       "0  Абхазия                  AB   NaN              2020-03-20   \n",
       "1  Абхазия                  AB   NaN              2020-04-18   \n",
       "\n",
       "  Дата завершения (для случаев отправления персонала)  \\\n",
       "0                                                NaT    \n",
       "1                                         2020-05-18    \n",
       "\n",
       "  Природа помощи (правительственная/неправительственная)  \\\n",
       "0                                                  П       \n",
       "1                                                  П       \n",
       "\n",
       "   Наборы тестов (кол-во)  Тест-системы/исследования (кол-во)  Тесты (факт)  \\\n",
       "0                     NaN                               400.0           1.0   \n",
       "1                     NaN                                 NaN           NaN   \n",
       "\n",
       "   СИЗ (факт)  ...                                         Источник 1  \\\n",
       "0         NaN  ...  https://sputnik-abkhazia.ru/Abkhazia/20200320/...   \n",
       "1         NaN  ...  https://www.mid.ru/ru/press_service/spokesman/...   \n",
       "\n",
       "                                          Источник 2  \\\n",
       "0  https://sputnik-abkhazia.ru/Abkhazia/20200326/...   \n",
       "1  https://abkhazia.mid.ru/ru/press-centre/news/o...   \n",
       "\n",
       "                                          Источник 3  Роспотребнадзор МЧС  \\\n",
       "0                                                NaN              1.0 NaN   \n",
       "1  https://sputnik-abkhazia.ru/coronavirus/202004...              NaN NaN   \n",
       "\n",
       "   Минобороны  Минздрав  ФМБА  Другие организации Международные  организации  \n",
       "0         NaN       NaN   NaN                 NaN                        NaN  \n",
       "1         1.0       NaN   NaN                 NaN                        NaN  \n",
       "\n",
       "[2 rows x 30 columns]"
      ]
     },
     "execution_count": 171,
     "metadata": {},
     "output_type": "execute_result"
    }
   ],
   "source": [
    "df.columns = df.columns.str.replace(\"\\n\", \" \")\n",
    "df.head(2)"
   ]
  },
  {
   "cell_type": "markdown",
   "metadata": {},
   "source": [
    "#### 4. Выведите таблицу, которая позволит просмотреть первую дату поставки и общее количество поставленной вакцины в рамках Марки вакцины и страны."
   ]
  },
  {
   "cell_type": "code",
   "execution_count": 174,
   "metadata": {
    "scrolled": true
   },
   "outputs": [
    {
     "data": {
      "text/html": [
       "<div>\n",
       "<style scoped>\n",
       "    .dataframe tbody tr th:only-of-type {\n",
       "        vertical-align: middle;\n",
       "    }\n",
       "\n",
       "    .dataframe tbody tr th {\n",
       "        vertical-align: top;\n",
       "    }\n",
       "\n",
       "    .dataframe thead th {\n",
       "        text-align: right;\n",
       "    }\n",
       "</style>\n",
       "<table border=\"1\" class=\"dataframe\">\n",
       "  <thead>\n",
       "    <tr style=\"text-align: right;\">\n",
       "      <th></th>\n",
       "      <th>Страна</th>\n",
       "      <th>Марка вакцины</th>\n",
       "      <th>Вакцина (кол-во)</th>\n",
       "      <th>Дата  поставки/ новости</th>\n",
       "    </tr>\n",
       "  </thead>\n",
       "  <tbody>\n",
       "    <tr>\n",
       "      <th>0</th>\n",
       "      <td>Абхазия</td>\n",
       "      <td>Спутник V</td>\n",
       "      <td>2500.0</td>\n",
       "      <td>2021-04-30</td>\n",
       "    </tr>\n",
       "    <tr>\n",
       "      <th>1</th>\n",
       "      <td>Азербайджан</td>\n",
       "      <td>Спутник V</td>\n",
       "      <td>15000.0</td>\n",
       "      <td>2021-04-26</td>\n",
       "    </tr>\n",
       "    <tr>\n",
       "      <th>2</th>\n",
       "      <td>Ангола</td>\n",
       "      <td>Спутник V</td>\n",
       "      <td>50000.0</td>\n",
       "      <td>2021-05-30</td>\n",
       "    </tr>\n",
       "    <tr>\n",
       "      <th>3</th>\n",
       "      <td>Армения</td>\n",
       "      <td>Спутник V</td>\n",
       "      <td>2060.0</td>\n",
       "      <td>2021-03-02</td>\n",
       "    </tr>\n",
       "    <tr>\n",
       "      <th>4</th>\n",
       "      <td>Белоруссия</td>\n",
       "      <td>ЭпиВакКорона</td>\n",
       "      <td>300.0</td>\n",
       "      <td>2021-02-03</td>\n",
       "    </tr>\n",
       "  </tbody>\n",
       "</table>\n",
       "</div>"
      ],
      "text/plain": [
       "        Страна Марка вакцины  Вакцина (кол-во) Дата  поставки/ новости\n",
       "0      Абхазия     Спутник V            2500.0              2021-04-30\n",
       "1  Азербайджан     Спутник V           15000.0              2021-04-26\n",
       "2       Ангола     Спутник V           50000.0              2021-05-30\n",
       "3      Армения     Спутник V            2060.0              2021-03-02\n",
       "4   Белоруссия  ЭпиВакКорона             300.0              2021-02-03"
      ]
     },
     "execution_count": 174,
     "metadata": {},
     "output_type": "execute_result"
    }
   ],
   "source": [
    "df_unload = df.groupby([\"Страна\", \"Марка вакцины\"]\n",
    ").agg({\"Вакцина (кол-во)\":\"sum\", \"Дата  поставки/ новости\":\"min\"}).reset_index()\n",
    "df_unload.head(5)"
   ]
  },
  {
   "cell_type": "markdown",
   "metadata": {},
   "source": [
    "#### 5. Напишите код для выгрузки полученной таблицы из задания 4 в xlsx так, чтобы лист Excel-файла назывался \"Выгрузка\" и были сохранены заголовки таблицы"
   ]
  },
  {
   "cell_type": "code",
   "execution_count": null,
   "metadata": {},
   "outputs": [],
   "source": [
    "df_unload.to_excel(\"./Выгрузка.xlsx\")"
   ]
  },
  {
   "cell_type": "markdown",
   "metadata": {},
   "source": [
    "#### 6. Достать домены источников 1, 2, 3\n",
    "Для столбцов Источников создать столбцы Доменов, где будет извлечен только домен (источник: https://sputnik-abkhazia.ru/Abkhazia/20200320/..., домен: sputnik-abkhazia.ru). В исходном датасете 3 столбца источника и соответственно должно быть создана 3 столбца с доменами."
   ]
  },
  {
   "cell_type": "code",
   "execution_count": 172,
   "metadata": {},
   "outputs": [
    {
     "data": {
      "text/html": [
       "<div>\n",
       "<style scoped>\n",
       "    .dataframe tbody tr th:only-of-type {\n",
       "        vertical-align: middle;\n",
       "    }\n",
       "\n",
       "    .dataframe tbody tr th {\n",
       "        vertical-align: top;\n",
       "    }\n",
       "\n",
       "    .dataframe thead th {\n",
       "        text-align: right;\n",
       "    }\n",
       "</style>\n",
       "<table border=\"1\" class=\"dataframe\">\n",
       "  <thead>\n",
       "    <tr style=\"text-align: right;\">\n",
       "      <th></th>\n",
       "      <th>Страна</th>\n",
       "      <th>Краткие обозначения</th>\n",
       "      <th>Город</th>\n",
       "      <th>Дата  поставки/ новости</th>\n",
       "      <th>Дата завершения (для случаев отправления персонала)</th>\n",
       "      <th>Природа помощи (правительственная/неправительственная)</th>\n",
       "      <th>Наборы тестов (кол-во)</th>\n",
       "      <th>Тест-системы/исследования (кол-во)</th>\n",
       "      <th>Тесты (факт)</th>\n",
       "      <th>СИЗ (факт)</th>\n",
       "      <th>...</th>\n",
       "      <th>Домен №2</th>\n",
       "      <th>Источник 3</th>\n",
       "      <th>Домен №3</th>\n",
       "      <th>Роспотребнадзор</th>\n",
       "      <th>МЧС</th>\n",
       "      <th>Минобороны</th>\n",
       "      <th>Минздрав</th>\n",
       "      <th>ФМБА</th>\n",
       "      <th>Другие организации</th>\n",
       "      <th>Международные  организации</th>\n",
       "    </tr>\n",
       "  </thead>\n",
       "  <tbody>\n",
       "    <tr>\n",
       "      <th>0</th>\n",
       "      <td>Абхазия</td>\n",
       "      <td>AB</td>\n",
       "      <td>NaN</td>\n",
       "      <td>2020-03-20</td>\n",
       "      <td>NaT</td>\n",
       "      <td>П</td>\n",
       "      <td>NaN</td>\n",
       "      <td>400.0</td>\n",
       "      <td>1.0</td>\n",
       "      <td>NaN</td>\n",
       "      <td>...</td>\n",
       "      <td>sputnik-abkhazia.ru</td>\n",
       "      <td>NaN</td>\n",
       "      <td>NaN</td>\n",
       "      <td>1.0</td>\n",
       "      <td>NaN</td>\n",
       "      <td>NaN</td>\n",
       "      <td>NaN</td>\n",
       "      <td>NaN</td>\n",
       "      <td>NaN</td>\n",
       "      <td>NaN</td>\n",
       "    </tr>\n",
       "  </tbody>\n",
       "</table>\n",
       "<p>1 rows × 33 columns</p>\n",
       "</div>"
      ],
      "text/plain": [
       "    Страна Краткие обозначения Город Дата  поставки/ новости  \\\n",
       "0  Абхазия                  AB   NaN              2020-03-20   \n",
       "\n",
       "  Дата завершения (для случаев отправления персонала)  \\\n",
       "0                                                NaT    \n",
       "\n",
       "  Природа помощи (правительственная/неправительственная)  \\\n",
       "0                                                  П       \n",
       "\n",
       "   Наборы тестов (кол-во)  Тест-системы/исследования (кол-во)  Тесты (факт)  \\\n",
       "0                     NaN                               400.0           1.0   \n",
       "\n",
       "   СИЗ (факт)  ...             Домен №2  Источник 3  Домен №3  \\\n",
       "0         NaN  ...  sputnik-abkhazia.ru         NaN       NaN   \n",
       "\n",
       "   Роспотребнадзор МЧС  Минобороны  Минздрав  ФМБА  Другие организации  \\\n",
       "0              1.0 NaN         NaN       NaN   NaN                 NaN   \n",
       "\n",
       "  Международные  организации  \n",
       "0                        NaN  \n",
       "\n",
       "[1 rows x 33 columns]"
      ]
     },
     "execution_count": 172,
     "metadata": {},
     "output_type": "execute_result"
    }
   ],
   "source": [
    "insider_1 = df.columns.get_loc(\"Источник 1\")\n",
    "df.insert(insider_1 + 1, \"Домен №1\", df[\"Источник 1\"].str.split('/').str[2])\n",
    "insider_2 = df.columns.get_loc(\"Источник 2\")\n",
    "df.insert(insider_2 + 1, \"Домен №2\", df[\"Источник 2\"].str.split('/').str[2])\n",
    "insider_3 = df.columns.get_loc(\"Источник 3\")\n",
    "df.insert(insider_3 + 1, \"Домен №3\", df[\"Источник 3\"].str.split('/').str[2])\n",
    "df.head(1)\n"
   ]
  },
  {
   "cell_type": "code",
   "execution_count": 173,
   "metadata": {},
   "outputs": [],
   "source": [
    "df.to_excel(\"./df.xlsx\")"
   ]
  }
 ],
 "metadata": {
  "kernelspec": {
   "display_name": "Python 3.10.6 64-bit",
   "language": "python",
   "name": "python3"
  },
  "language_info": {
   "codemirror_mode": {
    "name": "ipython",
    "version": 3
   },
   "file_extension": ".py",
   "mimetype": "text/x-python",
   "name": "python",
   "nbconvert_exporter": "python",
   "pygments_lexer": "ipython3",
   "version": "3.10.6"
  },
  "vscode": {
   "interpreter": {
    "hash": "bb33f6d328f18c07440802b8c66874c52744b86bff5cfe8eb1d71afeb55a2150"
   }
  }
 },
 "nbformat": 4,
 "nbformat_minor": 4
}
